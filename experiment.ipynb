{
 "cells": [
  {
   "cell_type": "code",
   "execution_count": null,
   "metadata": {},
   "outputs": [],
   "source": [
    "    from dataloader import CompetingRiskDataset, DataLoader\n",
    "    from loss import total_loss\n",
    "    from model import DeepHit\n",
    "    from preprocess import preprocess_pipe\n",
    "\n",
    "    dataset_transformed_train, dataset_transformed_val = preprocess_pipe(dataset_hf=\"Gabriel/synthetic_competing_risk\")\n",
    "\n",
    "    training_data = CompetingRiskDataset(dataset_transformed_train)\n",
    "    validation_data = CompetingRiskDataset(dataset_transformed_val)\n",
    "\n",
    "    device = torch.device(\"cuda:0\" if torch.cuda.is_available() else \"cpu\")\n",
    "    model = DeepHit().to(device)\n",
    "    total_fn = total_loss\n",
    "\n",
    "    # hyperparameters\n",
    "    optimizer = Adam(model.parameters(), lr=0.001)\n",
    "    epochs = 200\n",
    "    early_stopping_tol = 2\n",
    "    early_stopping_min_delta = 0.01\n",
    "    alpha = 0.3\n",
    "    sigma = 0.1\n",
    "    batch_train_size = 256\n",
    "    batch_val_size = 256\n",
    "    push_to_hub = True\n",
    "\n",
    "    training_loader = DataLoader(training_data, batch_size=batch_train_size, shuffle=True)\n",
    "    validation_loader = DataLoader(validation_data, batch_size=batch_val_size, shuffle=True)\n",
    "\n",
    "    log_train, log_val = train(\n",
    "        model,\n",
    "        epochs,\n",
    "        optimizer,\n",
    "        total_fn,\n",
    "        training_loader,\n",
    "        validation_loader,\n",
    "        device,\n",
    "        early_stopping_tol,\n",
    "        early_stopping_min_delta,\n",
    "        alpha,\n",
    "        sigma,\n",
    "        push_to_hub,\n",
    "    )\n",
    "\n",
    "    plot_log(log_train, log_val)"
   ]
  }
 ],
 "metadata": {
  "language_info": {
   "name": "python"
  },
  "orig_nbformat": 4
 },
 "nbformat": 4,
 "nbformat_minor": 2
}
